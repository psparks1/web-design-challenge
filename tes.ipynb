
import pandas as pd

df = pd.read_csv ("Resources/cities.csv")

html = df.to_html()
  
# write html to file
text_file = open("Data.html", "w")
text_file.write(html)
text_file.close()